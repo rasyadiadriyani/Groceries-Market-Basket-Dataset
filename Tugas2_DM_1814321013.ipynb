{
  "nbformat": 4,
  "nbformat_minor": 0,
  "metadata": {
    "colab": {
      "name": "Tugas2_DM_1814321013.ipynb",
      "provenance": [],
      "collapsed_sections": []
    },
    "kernelspec": {
      "display_name": "Python 3",
      "name": "python3"
    }
  },
  "cells": [
    {
      "cell_type": "code",
      "metadata": {
        "id": "EygJmorhuIps",
        "colab": {
          "background_save": true
        }
      },
      "source": [
        "import pandas as pd\n",
        "import numpy as np\n",
        "#from mlxtend.preprocessing import OnehotTransactions\n",
        "from sklearn.preprocessing import OneHotEncoder\n",
        "from mlxtend.frequent_patterns import apriori,association_rules"
      ],
      "execution_count": null,
      "outputs": []
    },
    {
      "cell_type": "code",
      "metadata": {
        "id": "AK1K9IFkvAOX"
      },
      "source": [
        "all_txns=[]\n",
        "\n",
        "with open('Groceries.csv') as f:\n",
        "    content=f.readlines()\n",
        "    txns=[x.strip() for x in content]\n",
        "    \n",
        "    for each_txn in txns:\n",
        "        all_txns.append(each_txn.split(','))"
      ],
      "execution_count": null,
      "outputs": []
    },
    {
      "cell_type": "code",
      "metadata": {
        "id": "bDUJnQgHvCpQ",
        "outputId": "9899c018-cc31-41ba-f989-78836e37fae6",
        "colab": {
          "base_uri": "https://localhost:8080/",
          "height": 153
        }
      },
      "source": [
        "all_txns[0:5]"
      ],
      "execution_count": null,
      "outputs": [
        {
          "output_type": "execute_result",
          "data": {
            "text/plain": [
              "[['citrus fruit', 'semi-finished bread', 'margarine', 'ready soups'],\n",
              " ['tropical fruit', 'yogurt', 'coffee'],\n",
              " ['whole milk'],\n",
              " ['pip fruit', 'yogurt', 'cream cheese', 'meat spreads'],\n",
              " ['other vegetables',\n",
              "  'whole milk',\n",
              "  'condensed milk',\n",
              "  'long life bakery product']]"
            ]
          },
          "metadata": {
            "tags": []
          },
          "execution_count": 3
        }
      ]
    },
    {
      "cell_type": "code",
      "metadata": {
        "id": "lL8wWrEtvFlx"
      },
      "source": [
        "from mlxtend.preprocessing import TransactionEncoder\n",
        "enc=TransactionEncoder()\n",
        "enc_txns=enc.fit(all_txns).transform(all_txns)"
      ],
      "execution_count": null,
      "outputs": []
    },
    {
      "cell_type": "code",
      "metadata": {
        "id": "Cv9cIzvWvKZw"
      },
      "source": [
        "enc_df=pd.DataFrame(enc_txns,columns=enc.columns_)"
      ],
      "execution_count": null,
      "outputs": []
    },
    {
      "cell_type": "code",
      "metadata": {
        "id": "eoJ8E1D5vMYR",
        "outputId": "f8b228ac-7e31-4186-95ab-73b5082eaa47",
        "colab": {
          "base_uri": "https://localhost:8080/",
          "height": 34
        }
      },
      "source": [
        "enc_df.shape"
      ],
      "execution_count": null,
      "outputs": [
        {
          "output_type": "execute_result",
          "data": {
            "text/plain": [
              "(9835, 169)"
            ]
          },
          "metadata": {
            "tags": []
          },
          "execution_count": 6
        }
      ]
    },
    {
      "cell_type": "code",
      "metadata": {
        "id": "6XjmRDDJvOZ_"
      },
      "source": [
        "frequent_itemset=apriori(enc_df,min_support=0.02,use_colnames=True)"
      ],
      "execution_count": null,
      "outputs": []
    },
    {
      "cell_type": "code",
      "metadata": {
        "id": "0Xak7XXsvQtn",
        "outputId": "af37e4a2-3dff-4e94-9186-7443475335b5",
        "colab": {
          "base_uri": "https://localhost:8080/",
          "height": 359
        }
      },
      "source": [
        "frequent_itemset.sample(10,random_state=90)"
      ],
      "execution_count": null,
      "outputs": [
        {
          "output_type": "execute_result",
          "data": {
            "text/html": [
              "<div>\n",
              "<style scoped>\n",
              "    .dataframe tbody tr th:only-of-type {\n",
              "        vertical-align: middle;\n",
              "    }\n",
              "\n",
              "    .dataframe tbody tr th {\n",
              "        vertical-align: top;\n",
              "    }\n",
              "\n",
              "    .dataframe thead th {\n",
              "        text-align: right;\n",
              "    }\n",
              "</style>\n",
              "<table border=\"1\" class=\"dataframe\">\n",
              "  <thead>\n",
              "    <tr style=\"text-align: right;\">\n",
              "      <th></th>\n",
              "      <th>support</th>\n",
              "      <th>itemsets</th>\n",
              "    </tr>\n",
              "  </thead>\n",
              "  <tbody>\n",
              "    <tr>\n",
              "      <th>60</th>\n",
              "      <td>0.020437</td>\n",
              "      <td>(bottled beer, whole milk)</td>\n",
              "    </tr>\n",
              "    <tr>\n",
              "      <th>52</th>\n",
              "      <td>0.033859</td>\n",
              "      <td>(sugar)</td>\n",
              "    </tr>\n",
              "    <tr>\n",
              "      <th>89</th>\n",
              "      <td>0.035892</td>\n",
              "      <td>(other vegetables, tropical fruit)</td>\n",
              "    </tr>\n",
              "    <tr>\n",
              "      <th>105</th>\n",
              "      <td>0.021047</td>\n",
              "      <td>(root vegetables, tropical fruit)</td>\n",
              "    </tr>\n",
              "    <tr>\n",
              "      <th>88</th>\n",
              "      <td>0.032740</td>\n",
              "      <td>(other vegetables, soda)</td>\n",
              "    </tr>\n",
              "    <tr>\n",
              "      <th>16</th>\n",
              "      <td>0.058058</td>\n",
              "      <td>(coffee)</td>\n",
              "    </tr>\n",
              "    <tr>\n",
              "      <th>111</th>\n",
              "      <td>0.024504</td>\n",
              "      <td>(shopping bags, whole milk)</td>\n",
              "    </tr>\n",
              "    <tr>\n",
              "      <th>36</th>\n",
              "      <td>0.079817</td>\n",
              "      <td>(newspapers)</td>\n",
              "    </tr>\n",
              "    <tr>\n",
              "      <th>119</th>\n",
              "      <td>0.056024</td>\n",
              "      <td>(yogurt, whole milk)</td>\n",
              "    </tr>\n",
              "    <tr>\n",
              "      <th>55</th>\n",
              "      <td>0.071683</td>\n",
              "      <td>(whipped/sour cream)</td>\n",
              "    </tr>\n",
              "  </tbody>\n",
              "</table>\n",
              "</div>"
            ],
            "text/plain": [
              "      support                            itemsets\n",
              "60   0.020437          (bottled beer, whole milk)\n",
              "52   0.033859                             (sugar)\n",
              "89   0.035892  (other vegetables, tropical fruit)\n",
              "105  0.021047   (root vegetables, tropical fruit)\n",
              "88   0.032740            (other vegetables, soda)\n",
              "16   0.058058                            (coffee)\n",
              "111  0.024504         (shopping bags, whole milk)\n",
              "36   0.079817                        (newspapers)\n",
              "119  0.056024                (yogurt, whole milk)\n",
              "55   0.071683                (whipped/sour cream)"
            ]
          },
          "metadata": {
            "tags": []
          },
          "execution_count": 8
        }
      ]
    },
    {
      "cell_type": "code",
      "metadata": {
        "id": "p73WNk3xvTb5"
      },
      "source": [
        "rules=association_rules(frequent_itemset,\n",
        "                       metric=\"lift\",\n",
        "                       min_threshold=1)"
      ],
      "execution_count": null,
      "outputs": []
    },
    {
      "cell_type": "code",
      "metadata": {
        "id": "qRhc2r1XvZYQ",
        "outputId": "e0812dce-6d73-4bee-e4e5-19e0585884ac",
        "colab": {
          "base_uri": "https://localhost:8080/",
          "height": 461
        }
      },
      "source": [
        "rules.sample(10)"
      ],
      "execution_count": null,
      "outputs": [
        {
          "output_type": "execute_result",
          "data": {
            "text/html": [
              "<div>\n",
              "<style scoped>\n",
              "    .dataframe tbody tr th:only-of-type {\n",
              "        vertical-align: middle;\n",
              "    }\n",
              "\n",
              "    .dataframe tbody tr th {\n",
              "        vertical-align: top;\n",
              "    }\n",
              "\n",
              "    .dataframe thead th {\n",
              "        text-align: right;\n",
              "    }\n",
              "</style>\n",
              "<table border=\"1\" class=\"dataframe\">\n",
              "  <thead>\n",
              "    <tr style=\"text-align: right;\">\n",
              "      <th></th>\n",
              "      <th>antecedents</th>\n",
              "      <th>consequents</th>\n",
              "      <th>antecedent support</th>\n",
              "      <th>consequent support</th>\n",
              "      <th>support</th>\n",
              "      <th>confidence</th>\n",
              "      <th>lift</th>\n",
              "      <th>leverage</th>\n",
              "      <th>conviction</th>\n",
              "    </tr>\n",
              "  </thead>\n",
              "  <tbody>\n",
              "    <tr>\n",
              "      <th>46</th>\n",
              "      <td>(other vegetables)</td>\n",
              "      <td>(pork)</td>\n",
              "      <td>0.193493</td>\n",
              "      <td>0.057651</td>\n",
              "      <td>0.021657</td>\n",
              "      <td>0.111929</td>\n",
              "      <td>1.941476</td>\n",
              "      <td>0.010502</td>\n",
              "      <td>1.061118</td>\n",
              "    </tr>\n",
              "    <tr>\n",
              "      <th>49</th>\n",
              "      <td>(rolls/buns)</td>\n",
              "      <td>(other vegetables)</td>\n",
              "      <td>0.183935</td>\n",
              "      <td>0.193493</td>\n",
              "      <td>0.042603</td>\n",
              "      <td>0.231620</td>\n",
              "      <td>1.197047</td>\n",
              "      <td>0.007013</td>\n",
              "      <td>1.049620</td>\n",
              "    </tr>\n",
              "    <tr>\n",
              "      <th>41</th>\n",
              "      <td>(whole milk)</td>\n",
              "      <td>(newspapers)</td>\n",
              "      <td>0.255516</td>\n",
              "      <td>0.079817</td>\n",
              "      <td>0.027351</td>\n",
              "      <td>0.107043</td>\n",
              "      <td>1.341110</td>\n",
              "      <td>0.006957</td>\n",
              "      <td>1.030490</td>\n",
              "    </tr>\n",
              "    <tr>\n",
              "      <th>102</th>\n",
              "      <td>(soda)</td>\n",
              "      <td>(yogurt)</td>\n",
              "      <td>0.174377</td>\n",
              "      <td>0.139502</td>\n",
              "      <td>0.027351</td>\n",
              "      <td>0.156851</td>\n",
              "      <td>1.124368</td>\n",
              "      <td>0.003025</td>\n",
              "      <td>1.020577</td>\n",
              "    </tr>\n",
              "    <tr>\n",
              "      <th>45</th>\n",
              "      <td>(pip fruit)</td>\n",
              "      <td>(other vegetables)</td>\n",
              "      <td>0.075648</td>\n",
              "      <td>0.193493</td>\n",
              "      <td>0.026131</td>\n",
              "      <td>0.345430</td>\n",
              "      <td>1.785237</td>\n",
              "      <td>0.011494</td>\n",
              "      <td>1.232118</td>\n",
              "    </tr>\n",
              "    <tr>\n",
              "      <th>63</th>\n",
              "      <td>(yogurt)</td>\n",
              "      <td>(other vegetables)</td>\n",
              "      <td>0.139502</td>\n",
              "      <td>0.193493</td>\n",
              "      <td>0.043416</td>\n",
              "      <td>0.311224</td>\n",
              "      <td>1.608457</td>\n",
              "      <td>0.016424</td>\n",
              "      <td>1.170929</td>\n",
              "    </tr>\n",
              "    <tr>\n",
              "      <th>42</th>\n",
              "      <td>(pastry)</td>\n",
              "      <td>(other vegetables)</td>\n",
              "      <td>0.088968</td>\n",
              "      <td>0.193493</td>\n",
              "      <td>0.022572</td>\n",
              "      <td>0.253714</td>\n",
              "      <td>1.311235</td>\n",
              "      <td>0.005358</td>\n",
              "      <td>1.080695</td>\n",
              "    </tr>\n",
              "    <tr>\n",
              "      <th>40</th>\n",
              "      <td>(newspapers)</td>\n",
              "      <td>(whole milk)</td>\n",
              "      <td>0.079817</td>\n",
              "      <td>0.255516</td>\n",
              "      <td>0.027351</td>\n",
              "      <td>0.342675</td>\n",
              "      <td>1.341110</td>\n",
              "      <td>0.006957</td>\n",
              "      <td>1.132597</td>\n",
              "    </tr>\n",
              "    <tr>\n",
              "      <th>21</th>\n",
              "      <td>(whole milk)</td>\n",
              "      <td>(citrus fruit)</td>\n",
              "      <td>0.255516</td>\n",
              "      <td>0.082766</td>\n",
              "      <td>0.030503</td>\n",
              "      <td>0.119379</td>\n",
              "      <td>1.442377</td>\n",
              "      <td>0.009355</td>\n",
              "      <td>1.041577</td>\n",
              "    </tr>\n",
              "    <tr>\n",
              "      <th>68</th>\n",
              "      <td>(pastry)</td>\n",
              "      <td>(whole milk)</td>\n",
              "      <td>0.088968</td>\n",
              "      <td>0.255516</td>\n",
              "      <td>0.033249</td>\n",
              "      <td>0.373714</td>\n",
              "      <td>1.462587</td>\n",
              "      <td>0.010516</td>\n",
              "      <td>1.188729</td>\n",
              "    </tr>\n",
              "  </tbody>\n",
              "</table>\n",
              "</div>"
            ],
            "text/plain": [
              "            antecedents         consequents  ...  leverage  conviction\n",
              "46   (other vegetables)              (pork)  ...  0.010502    1.061118\n",
              "49         (rolls/buns)  (other vegetables)  ...  0.007013    1.049620\n",
              "41         (whole milk)        (newspapers)  ...  0.006957    1.030490\n",
              "102              (soda)            (yogurt)  ...  0.003025    1.020577\n",
              "45          (pip fruit)  (other vegetables)  ...  0.011494    1.232118\n",
              "63             (yogurt)  (other vegetables)  ...  0.016424    1.170929\n",
              "42             (pastry)  (other vegetables)  ...  0.005358    1.080695\n",
              "40         (newspapers)        (whole milk)  ...  0.006957    1.132597\n",
              "21         (whole milk)      (citrus fruit)  ...  0.009355    1.041577\n",
              "68             (pastry)        (whole milk)  ...  0.010516    1.188729\n",
              "\n",
              "[10 rows x 9 columns]"
            ]
          },
          "metadata": {
            "tags": []
          },
          "execution_count": 12
        }
      ]
    },
    {
      "cell_type": "code",
      "metadata": {
        "id": "PHr_DDCgvWFW",
        "outputId": "85da3604-3eff-4a45-c9b3-31d6a5268e60",
        "colab": {
          "base_uri": "https://localhost:8080/",
          "height": 427
        }
      },
      "source": [
        "rules.sort_values('confidence',ascending=False)[0:10]"
      ],
      "execution_count": null,
      "outputs": [
        {
          "output_type": "execute_result",
          "data": {
            "text/html": [
              "<div>\n",
              "<style scoped>\n",
              "    .dataframe tbody tr th:only-of-type {\n",
              "        vertical-align: middle;\n",
              "    }\n",
              "\n",
              "    .dataframe tbody tr th {\n",
              "        vertical-align: top;\n",
              "    }\n",
              "\n",
              "    .dataframe thead th {\n",
              "        text-align: right;\n",
              "    }\n",
              "</style>\n",
              "<table border=\"1\" class=\"dataframe\">\n",
              "  <thead>\n",
              "    <tr style=\"text-align: right;\">\n",
              "      <th></th>\n",
              "      <th>antecedents</th>\n",
              "      <th>consequents</th>\n",
              "      <th>antecedent support</th>\n",
              "      <th>consequent support</th>\n",
              "      <th>support</th>\n",
              "      <th>confidence</th>\n",
              "      <th>lift</th>\n",
              "      <th>leverage</th>\n",
              "      <th>conviction</th>\n",
              "    </tr>\n",
              "  </thead>\n",
              "  <tbody>\n",
              "    <tr>\n",
              "      <th>120</th>\n",
              "      <td>(other vegetables, yogurt)</td>\n",
              "      <td>(whole milk)</td>\n",
              "      <td>0.043416</td>\n",
              "      <td>0.255516</td>\n",
              "      <td>0.022267</td>\n",
              "      <td>0.512881</td>\n",
              "      <td>2.007235</td>\n",
              "      <td>0.011174</td>\n",
              "      <td>1.528340</td>\n",
              "    </tr>\n",
              "    <tr>\n",
              "      <th>17</th>\n",
              "      <td>(butter)</td>\n",
              "      <td>(whole milk)</td>\n",
              "      <td>0.055414</td>\n",
              "      <td>0.255516</td>\n",
              "      <td>0.027555</td>\n",
              "      <td>0.497248</td>\n",
              "      <td>1.946053</td>\n",
              "      <td>0.013395</td>\n",
              "      <td>1.480817</td>\n",
              "    </tr>\n",
              "    <tr>\n",
              "      <th>24</th>\n",
              "      <td>(curd)</td>\n",
              "      <td>(whole milk)</td>\n",
              "      <td>0.053279</td>\n",
              "      <td>0.255516</td>\n",
              "      <td>0.026131</td>\n",
              "      <td>0.490458</td>\n",
              "      <td>1.919481</td>\n",
              "      <td>0.012517</td>\n",
              "      <td>1.461085</td>\n",
              "    </tr>\n",
              "    <tr>\n",
              "      <th>114</th>\n",
              "      <td>(root vegetables, other vegetables)</td>\n",
              "      <td>(whole milk)</td>\n",
              "      <td>0.047382</td>\n",
              "      <td>0.255516</td>\n",
              "      <td>0.023183</td>\n",
              "      <td>0.489270</td>\n",
              "      <td>1.914833</td>\n",
              "      <td>0.011076</td>\n",
              "      <td>1.457687</td>\n",
              "    </tr>\n",
              "    <tr>\n",
              "      <th>115</th>\n",
              "      <td>(root vegetables, whole milk)</td>\n",
              "      <td>(other vegetables)</td>\n",
              "      <td>0.048907</td>\n",
              "      <td>0.193493</td>\n",
              "      <td>0.023183</td>\n",
              "      <td>0.474012</td>\n",
              "      <td>2.449770</td>\n",
              "      <td>0.013719</td>\n",
              "      <td>1.533320</td>\n",
              "    </tr>\n",
              "    <tr>\n",
              "      <th>29</th>\n",
              "      <td>(domestic eggs)</td>\n",
              "      <td>(whole milk)</td>\n",
              "      <td>0.063447</td>\n",
              "      <td>0.255516</td>\n",
              "      <td>0.029995</td>\n",
              "      <td>0.472756</td>\n",
              "      <td>1.850203</td>\n",
              "      <td>0.013783</td>\n",
              "      <td>1.412030</td>\n",
              "    </tr>\n",
              "    <tr>\n",
              "      <th>108</th>\n",
              "      <td>(whipped/sour cream)</td>\n",
              "      <td>(whole milk)</td>\n",
              "      <td>0.071683</td>\n",
              "      <td>0.255516</td>\n",
              "      <td>0.032232</td>\n",
              "      <td>0.449645</td>\n",
              "      <td>1.759754</td>\n",
              "      <td>0.013916</td>\n",
              "      <td>1.352735</td>\n",
              "    </tr>\n",
              "    <tr>\n",
              "      <th>90</th>\n",
              "      <td>(root vegetables)</td>\n",
              "      <td>(whole milk)</td>\n",
              "      <td>0.108998</td>\n",
              "      <td>0.255516</td>\n",
              "      <td>0.048907</td>\n",
              "      <td>0.448694</td>\n",
              "      <td>1.756031</td>\n",
              "      <td>0.021056</td>\n",
              "      <td>1.350401</td>\n",
              "    </tr>\n",
              "    <tr>\n",
              "      <th>50</th>\n",
              "      <td>(root vegetables)</td>\n",
              "      <td>(other vegetables)</td>\n",
              "      <td>0.108998</td>\n",
              "      <td>0.193493</td>\n",
              "      <td>0.047382</td>\n",
              "      <td>0.434701</td>\n",
              "      <td>2.246605</td>\n",
              "      <td>0.026291</td>\n",
              "      <td>1.426693</td>\n",
              "    </tr>\n",
              "    <tr>\n",
              "      <th>32</th>\n",
              "      <td>(frozen vegetables)</td>\n",
              "      <td>(whole milk)</td>\n",
              "      <td>0.048094</td>\n",
              "      <td>0.255516</td>\n",
              "      <td>0.020437</td>\n",
              "      <td>0.424947</td>\n",
              "      <td>1.663094</td>\n",
              "      <td>0.008149</td>\n",
              "      <td>1.294636</td>\n",
              "    </tr>\n",
              "  </tbody>\n",
              "</table>\n",
              "</div>"
            ],
            "text/plain": [
              "                             antecedents  ... conviction\n",
              "120           (other vegetables, yogurt)  ...   1.528340\n",
              "17                              (butter)  ...   1.480817\n",
              "24                                (curd)  ...   1.461085\n",
              "114  (root vegetables, other vegetables)  ...   1.457687\n",
              "115        (root vegetables, whole milk)  ...   1.533320\n",
              "29                       (domestic eggs)  ...   1.412030\n",
              "108                 (whipped/sour cream)  ...   1.352735\n",
              "90                     (root vegetables)  ...   1.350401\n",
              "50                     (root vegetables)  ...   1.426693\n",
              "32                   (frozen vegetables)  ...   1.294636\n",
              "\n",
              "[10 rows x 9 columns]"
            ]
          },
          "metadata": {
            "tags": []
          },
          "execution_count": 30
        }
      ]
    }
  ]
}